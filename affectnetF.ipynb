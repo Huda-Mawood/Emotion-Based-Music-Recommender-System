{
  "cells": [
    {
      "cell_type": "code",
      "execution_count": 1,
      "metadata": {
        "id": "Im3qwaJtN75k"
      },
      "outputs": [],
      "source": [
        "data_dir = r\"dataset\\Train\"\n"
      ]
    },
    {
      "cell_type": "code",
      "execution_count": 2,
      "metadata": {
        "_cell_guid": "b1076dfc-b9ad-4769-8c92-a6c4dae69d19",
        "_uuid": "8f2839f25d086af736a60e9eeb907d3b93b6e0e5",
        "colab": {
          "base_uri": "https://localhost:8080/"
        },
        "execution": {
          "iopub.execute_input": "2025-06-25T07:39:09.451483Z",
          "iopub.status.busy": "2025-06-25T07:39:09.451253Z",
          "iopub.status.idle": "2025-06-25T07:39:09.470591Z",
          "shell.execute_reply": "2025-06-25T07:39:09.470071Z",
          "shell.execute_reply.started": "2025-06-25T07:39:09.451467Z"
        },
        "id": "sinZCsxnNgZ5",
        "outputId": "07d49c7a-b245-4e7d-e3e2-1a6be11411c6",
        "trusted": true
      },
      "outputs": [
        {
          "name": "stdout",
          "output_type": "stream",
          "text": [
            "Class distribution:\n",
            "anger: 1500 images\n",
            "contempt: 1559 images\n",
            "disgust: 1229 images\n",
            "fear: 1512 images\n",
            "happy: 2340 images\n",
            "neutral: 2758 images\n",
            "sad: 3091 images\n",
            "surprise: 2119 images\n",
            "\n",
            " Total images: 16108\n"
          ]
        }
      ],
      "source": [
        "import os\n",
        "from collections import Counter\n",
        "\n",
        "\n",
        "# Count total images and per class\n",
        "total_images = 0\n",
        "class_counts = {}\n",
        "\n",
        "for emotion in os.listdir(data_dir):\n",
        "    class_path = os.path.join(data_dir, emotion)\n",
        "    if os.path.isdir(class_path):\n",
        "        files = [f for f in os.listdir(class_path) if f.lower().endswith(('.png', '.jpg', '.jpeg'))]\n",
        "        class_counts[emotion] = len(files)\n",
        "        total_images += len(files)\n",
        "\n",
        "print(\"Class distribution:\")\n",
        "for k, v in class_counts.items():\n",
        "    print(f\"{k}: {v} images\")\n",
        "\n",
        "print(f\"\\n Total images: {total_images}\")\n"
      ]
    },
    {
      "cell_type": "code",
      "execution_count": 3,
      "metadata": {
        "colab": {
          "base_uri": "https://localhost:8080/"
        },
        "execution": {
          "iopub.execute_input": "2025-06-25T07:39:16.067168Z",
          "iopub.status.busy": "2025-06-25T07:39:16.066455Z",
          "iopub.status.idle": "2025-06-25T07:39:16.073910Z",
          "shell.execute_reply": "2025-06-25T07:39:16.073173Z",
          "shell.execute_reply.started": "2025-06-25T07:39:16.067141Z"
        },
        "id": "Ehq4e1M2NgZ8",
        "outputId": "d3ac5887-b480-44ce-b9f4-421490cc8b25",
        "trusted": true
      },
      "outputs": [
        {
          "name": "stdout",
          "output_type": "stream",
          "text": [
            "Sample image shape: (96, 96, 3)\n"
          ]
        }
      ],
      "source": [
        "import cv2\n",
        "import numpy as np\n",
        "\n",
        "# Pick a sample image path\n",
        "sample_emotion = next(iter(class_counts))\n",
        "sample_path = os.path.join(data_dir, sample_emotion, os.listdir(os.path.join(data_dir, sample_emotion))[0])\n",
        "\n",
        "# Load image using OpenCV\n",
        "img = cv2.imread(sample_path)\n",
        "img_rgb = cv2.cvtColor(img, cv2.COLOR_BGR2RGB)\n",
        "\n",
        "print(f\"Sample image shape: {img_rgb.shape}\")  # (Height, Width, Channels)\n"
      ]
    },
    {
      "cell_type": "code",
      "execution_count": 4,
      "metadata": {
        "execution": {
          "iopub.execute_input": "2025-06-25T07:39:19.034432Z",
          "iopub.status.busy": "2025-06-25T07:39:19.033756Z",
          "iopub.status.idle": "2025-06-25T07:39:19.038936Z",
          "shell.execute_reply": "2025-06-25T07:39:19.038004Z",
          "shell.execute_reply.started": "2025-06-25T07:39:19.034406Z"
        },
        "id": "eTCwNJSWNgZ9",
        "trusted": true
      },
      "outputs": [],
      "source": [
        "import os\n",
        "import numpy as np\n",
        "from collections import Counter\n",
        "from sklearn.utils.class_weight import compute_class_weight\n",
        "import tensorflow as tf\n",
        "from tensorflow.keras.preprocessing.image import ImageDataGenerator\n",
        "from tensorflow.keras.applications import EfficientNetB0\n",
        "from tensorflow.keras.layers import GlobalAveragePooling2D, Dropout, Dense\n",
        "from tensorflow.keras.models import Model\n",
        "from tensorflow.keras.optimizers import Adam"
      ]
    },
    {
      "cell_type": "code",
      "execution_count": 5,
      "metadata": {
        "execution": {
          "iopub.execute_input": "2025-06-25T07:39:24.668872Z",
          "iopub.status.busy": "2025-06-25T07:39:24.668598Z",
          "iopub.status.idle": "2025-06-25T07:39:24.672541Z",
          "shell.execute_reply": "2025-06-25T07:39:24.671861Z",
          "shell.execute_reply.started": "2025-06-25T07:39:24.668851Z"
        },
        "id": "vgSvko43NgZ9",
        "trusted": true
      },
      "outputs": [],
      "source": [
        "train_dir = r\"dataset\\Train\""
      ]
    },
    {
      "cell_type": "code",
      "execution_count": 6,
      "metadata": {
        "colab": {
          "base_uri": "https://localhost:8080/"
        },
        "execution": {
          "iopub.execute_input": "2025-06-25T07:39:26.663623Z",
          "iopub.status.busy": "2025-06-25T07:39:26.663340Z",
          "iopub.status.idle": "2025-06-25T07:39:26.714405Z",
          "shell.execute_reply": "2025-06-25T07:39:26.713808Z",
          "shell.execute_reply.started": "2025-06-25T07:39:26.663603Z"
        },
        "id": "IB8qkijyNgZ9",
        "outputId": "ba48611b-8d8f-4cc7-ad8b-4da7a98b3065",
        "trusted": true
      },
      "outputs": [
        {
          "name": "stdout",
          "output_type": "stream",
          "text": [
            "Class weights: {0: np.float64(1.3423333333333334), 1: np.float64(1.2915330339961513), 2: np.float64(1.6383238405207485), 3: np.float64(1.3316798941798942), 4: np.float64(0.8604700854700855), 5: np.float64(0.7300580130529369), 6: np.float64(0.6514073115496603), 7: np.float64(0.9502123643227938)}\n"
          ]
        }
      ],
      "source": [
        "# Get label distribution from folder structure\n",
        "classes = sorted(os.listdir(train_dir))\n",
        "label_list = []\n",
        "\n",
        "for idx, cls in enumerate(classes):\n",
        "    cls_path = os.path.join(train_dir, cls)\n",
        "    if os.path.isdir(cls_path):\n",
        "        num_files = len([f for f in os.listdir(cls_path) if f.lower().endswith(('.png', '.jpg', '.jpeg'))])\n",
        "        label_list += [idx] * num_files  # use index instead of string class\n",
        "\n",
        "# Compute class weights\n",
        "class_weights_array = compute_class_weight(\n",
        "    class_weight='balanced',\n",
        "    classes=np.unique(label_list),\n",
        "    y=label_list\n",
        ")\n",
        "\n",
        "class_weights = dict(enumerate(class_weights_array))\n",
        "print(\"Class weights:\", class_weights)\n"
      ]
    },
    {
      "cell_type": "code",
      "execution_count": 7,
      "metadata": {
        "colab": {
          "base_uri": "https://localhost:8080/"
        },
        "execution": {
          "iopub.execute_input": "2025-06-25T07:39:55.022148Z",
          "iopub.status.busy": "2025-06-25T07:39:55.021846Z",
          "iopub.status.idle": "2025-06-25T07:40:04.391395Z",
          "shell.execute_reply": "2025-06-25T07:40:04.390553Z",
          "shell.execute_reply.started": "2025-06-25T07:39:55.022127Z"
        },
        "id": "1qMqJB4oNgZ-",
        "outputId": "ff9e7883-79d2-42af-bc7f-f0c3790b5f78",
        "trusted": true
      },
      "outputs": [
        {
          "name": "stdout",
          "output_type": "stream",
          "text": [
            "Found 13696 images belonging to 8 classes.\n",
            "Found 2412 images belonging to 8 classes.\n"
          ]
        }
      ],
      "source": [
        "img_size = (224, 224)\n",
        "batch_size = 32\n",
        "\n",
        "datagen = ImageDataGenerator(\n",
        "    rescale=1./255,\n",
        "    rotation_range=15,\n",
        "    width_shift_range=0.1,\n",
        "    height_shift_range=0.1,\n",
        "    zoom_range=0.15,\n",
        "    horizontal_flip=True,\n",
        "    validation_split=0.15\n",
        ")\n",
        "train_generator = datagen.flow_from_directory(\n",
        "    train_dir,\n",
        "    target_size=img_size,\n",
        "    batch_size=batch_size,\n",
        "    class_mode='categorical',\n",
        "    subset='training',\n",
        "    shuffle=True\n",
        ")\n",
        "\n",
        "val_generator = datagen.flow_from_directory(\n",
        "    train_dir,\n",
        "    target_size=img_size,\n",
        "    batch_size=batch_size,\n",
        "    class_mode='categorical',\n",
        "    subset='validation',\n",
        "    shuffle=False\n",
        ")\n"
      ]
    },
    {
      "cell_type": "code",
      "execution_count": 8,
      "metadata": {
        "colab": {
          "base_uri": "https://localhost:8080/"
        },
        "execution": {
          "iopub.execute_input": "2025-06-25T08:09:16.311064Z",
          "iopub.status.busy": "2025-06-25T08:09:16.310473Z",
          "iopub.status.idle": "2025-06-25T08:09:17.345371Z",
          "shell.execute_reply": "2025-06-25T08:09:17.344748Z",
          "shell.execute_reply.started": "2025-06-25T08:09:16.311035Z"
        },
        "id": "1rLUahh6NgZ_",
        "outputId": "3fa3a299-6973-4d2b-e684-e918d7fc53ed",
        "trusted": true
      },
      "outputs": [],
      "source": [
        "base_model = EfficientNetB0(include_top=False, weights='imagenet', input_shape=(224, 224, 3))\n",
        "base_model.trainable = True  # freeze for transfer learning\n",
        "\n",
        "x = GlobalAveragePooling2D()(base_model.output)\n",
        "x = Dropout(0.5)(x)\n",
        "x = Dense(128, activation='relu')(x)\n",
        "x = Dropout(0.3)(x)\n",
        "output = Dense(len(classes), activation='softmax')(x)\n",
        "\n",
        "model = Model(inputs=base_model.input, outputs=output)\n",
        "\n",
        "model.compile(\n",
        "    optimizer=Adam(1e-5),\n",
        "    loss='categorical_crossentropy',\n",
        "    metrics=['accuracy']\n",
        ")"
      ]
    },
    {
      "cell_type": "code",
      "execution_count": 19,
      "metadata": {
        "colab": {
          "base_uri": "https://localhost:8080/"
        },
        "execution": {
          "iopub.execute_input": "2025-06-25T08:30:16.497651Z",
          "iopub.status.busy": "2025-06-25T08:30:16.496732Z",
          "iopub.status.idle": "2025-06-25T09:15:38.945807Z",
          "shell.execute_reply": "2025-06-25T09:15:38.945255Z",
          "shell.execute_reply.started": "2025-06-25T08:30:16.497629Z"
        },
        "id": "tSo8H9VWNgaA",
        "outputId": "2b5a51ae-c87b-407c-a031-e44b885df504",
        "trusted": true
      },
      "outputs": [
        {
          "name": "stderr",
          "output_type": "stream",
          "text": [
            "/usr/local/lib/python3.11/dist-packages/keras/src/trainers/data_adapters/py_dataset_adapter.py:121: UserWarning: Your `PyDataset` class should call `super().__init__(**kwargs)` in its constructor. `**kwargs` can include `workers`, `use_multiprocessing`, `max_queue_size`. Do not pass these arguments to `fit()`, as they will be ignored.\n",
            "  self._warn_if_super_not_called()\n"
          ]
        },
        {
          "name": "stdout",
          "output_type": "stream",
          "text": [
            "Epoch 1/15\n",
            "\u001b[1m428/428\u001b[0m \u001b[32m━━━━━━━━━━━━━━━━━━━━\u001b[0m\u001b[37m\u001b[0m \u001b[1m294s\u001b[0m 500ms/step - accuracy: 0.1387 - loss: 2.1585 - val_accuracy: 0.1405 - val_loss: 2.0874\n",
            "Epoch 2/15\n",
            "\u001b[1m428/428\u001b[0m \u001b[32m━━━━━━━━━━━━━━━━━━━━\u001b[0m\u001b[37m\u001b[0m \u001b[1m201s\u001b[0m 469ms/step - accuracy: 0.2163 - loss: 2.0095 - val_accuracy: 0.1932 - val_loss: 2.0303\n",
            "Epoch 3/15\n",
            "\u001b[1m428/428\u001b[0m \u001b[32m━━━━━━━━━━━━━━━━━━━━\u001b[0m\u001b[37m\u001b[0m \u001b[1m203s\u001b[0m 475ms/step - accuracy: 0.2847 - loss: 1.8526 - val_accuracy: 0.3698 - val_loss: 1.6810\n",
            "Epoch 4/15\n",
            "\u001b[1m428/428\u001b[0m \u001b[32m━━━━━━━━━━━━━━━━━━━━\u001b[0m\u001b[37m\u001b[0m \u001b[1m202s\u001b[0m 472ms/step - accuracy: 0.3308 - loss: 1.6763 - val_accuracy: 0.3541 - val_loss: 1.7276\n",
            "Epoch 5/15\n",
            "\u001b[1m428/428\u001b[0m \u001b[32m━━━━━━━━━━━━━━━━━━━━\u001b[0m\u001b[37m\u001b[0m \u001b[1m262s\u001b[0m 472ms/step - accuracy: 0.3782 - loss: 1.5536 - val_accuracy: 0.4677 - val_loss: 1.3721\n",
            "Epoch 6/15\n",
            "\u001b[1m428/428\u001b[0m \u001b[32m━━━━━━━━━━━━━━━━━━━━\u001b[0m\u001b[37m\u001b[0m \u001b[1m200s\u001b[0m 468ms/step - accuracy: 0.4098 - loss: 1.4747 - val_accuracy: 0.3031 - val_loss: 1.7452\n",
            "Epoch 7/15\n",
            "\u001b[1m428/428\u001b[0m \u001b[32m━━━━━━━━━━━━━━━━━━━━\u001b[0m\u001b[37m\u001b[0m \u001b[1m201s\u001b[0m 469ms/step - accuracy: 0.4357 - loss: 1.4201 - val_accuracy: 0.4768 - val_loss: 1.3809\n",
            "Epoch 8/15\n",
            "\u001b[1m428/428\u001b[0m \u001b[32m━━━━━━━━━━━━━━━━━━━━\u001b[0m\u001b[37m\u001b[0m \u001b[1m201s\u001b[0m 469ms/step - accuracy: 0.4651 - loss: 1.3568 - val_accuracy: 0.4532 - val_loss: 1.4125\n",
            "Epoch 9/15\n",
            "\u001b[1m428/428\u001b[0m \u001b[32m━━━━━━━━━━━━━━━━━━━━\u001b[0m\u001b[37m\u001b[0m \u001b[1m217s\u001b[0m 505ms/step - accuracy: 0.4760 - loss: 1.3300 - val_accuracy: 0.4888 - val_loss: 1.3383\n",
            "Epoch 10/15\n",
            "\u001b[1m428/428\u001b[0m \u001b[32m━━━━━━━━━━━━━━━━━━━━\u001b[0m\u001b[37m\u001b[0m \u001b[1m250s\u001b[0m 478ms/step - accuracy: 0.5025 - loss: 1.2838 - val_accuracy: 0.5328 - val_loss: 1.2327\n",
            "Epoch 11/15\n",
            "\u001b[1m428/428\u001b[0m \u001b[32m━━━━━━━━━━━━━━━━━━━━\u001b[0m\u001b[37m\u001b[0m \u001b[1m202s\u001b[0m 471ms/step - accuracy: 0.5198 - loss: 1.2427 - val_accuracy: 0.5638 - val_loss: 1.0883\n",
            "Epoch 12/15\n",
            "\u001b[1m428/428\u001b[0m \u001b[32m━━━━━━━━━━━━━━━━━━━━\u001b[0m\u001b[37m\u001b[0m \u001b[1m199s\u001b[0m 464ms/step - accuracy: 0.5189 - loss: 1.2201 - val_accuracy: 0.5763 - val_loss: 1.1022\n",
            "Epoch 13/15\n",
            "\u001b[1m428/428\u001b[0m \u001b[32m━━━━━━━━━━━━━━━━━━━━\u001b[0m\u001b[37m\u001b[0m \u001b[1m202s\u001b[0m 464ms/step - accuracy: 0.5390 - loss: 1.1939 - val_accuracy: 0.5767 - val_loss: 1.1117\n",
            "Epoch 14/15\n",
            "\u001b[1m428/428\u001b[0m \u001b[32m━━━━━━━━━━━━━━━━━━━━\u001b[0m\u001b[37m\u001b[0m \u001b[1m198s\u001b[0m 463ms/step - accuracy: 0.5518 - loss: 1.1689 - val_accuracy: 0.5904 - val_loss: 1.0652\n",
            "Epoch 15/15\n",
            "\u001b[1m428/428\u001b[0m \u001b[32m━━━━━━━━━━━━━━━━━━━━\u001b[0m\u001b[37m\u001b[0m \u001b[1m202s\u001b[0m 463ms/step - accuracy: 0.5532 - loss: 1.1495 - val_accuracy: 0.6095 - val_loss: 1.0495\n"
          ]
        }
      ],
      "source": [
        "history = model.fit(\n",
        "    train_generator,\n",
        "    validation_data=val_generator,\n",
        "    epochs=15,\n",
        "    # class_weight=class_weights,\n",
        "    steps_per_epoch=len(train_generator),\n",
        "    validation_steps=len(val_generator)\n",
        ")"
      ]
    },
    {
      "cell_type": "code",
      "execution_count": null,
      "metadata": {
        "id": "_gvyUXao2cBH"
      },
      "outputs": [],
      "source": [
        "model_save_path = \"emotion_model.h5\"\n"
      ]
    },
    {
      "cell_type": "code",
      "execution_count": 21,
      "metadata": {
        "colab": {
          "base_uri": "https://localhost:8080/"
        },
        "id": "7_LVEVL62c_i",
        "outputId": "f25df9e7-58e0-4640-e1fb-d9705088b1c7"
      },
      "outputs": [
        {
          "name": "stderr",
          "output_type": "stream",
          "text": [
            "WARNING:absl:You are saving your model as an HDF5 file via `model.save()` or `keras.saving.save_model(model)`. This file format is considered legacy. We recommend using instead the native Keras format, e.g. `model.save('my_model.keras')` or `keras.saving.save_model(model, 'my_model.keras')`. \n"
          ]
        },
        {
          "name": "stdout",
          "output_type": "stream",
          "text": [
            "Model saved to Drive\n"
          ]
        }
      ],
      "source": [
        "model.save(model_save_path)\n",
        "print(\"Model saved to Drive\")\n"
      ]
    },
    {
      "cell_type": "code",
      "execution_count": 23,
      "metadata": {
        "colab": {
          "base_uri": "https://localhost:8080/",
          "height": 1000
        },
        "execution": {
          "iopub.execute_input": "2025-06-25T09:42:38.346324Z",
          "iopub.status.busy": "2025-06-25T09:42:38.345591Z",
          "iopub.status.idle": "2025-06-25T09:43:19.379664Z",
          "shell.execute_reply": "2025-06-25T09:43:19.379052Z",
          "shell.execute_reply.started": "2025-06-25T09:42:38.346298Z"
        },
        "id": "SErh_vkMNgaA",
        "outputId": "b517aed1-1af3-4699-b97a-1580a32c5f71",
        "trusted": true
      },
      "outputs": [
        {
          "name": "stdout",
          "output_type": "stream",
          "text": [
            "\u001b[1m76/76\u001b[0m \u001b[32m━━━━━━━━━━━━━━━━━━━━\u001b[0m\u001b[37m\u001b[0m \u001b[1m39s\u001b[0m 431ms/step\n"
          ]
        },
        {
          "data": {
            "image/png": "[encoded data removed]",
            "text/plain": [
              "<Figure size 1000x800 with 2 Axes>"
            ]
          },
          "metadata": {},
          "output_type": "display_data"
        },
        {
          "name": "stdout",
          "output_type": "stream",
          "text": [
            "Validation Classification Report:\n",
            "\n",
            "              precision    recall  f1-score   support\n",
            "\n",
            "       anger       0.43      0.25      0.31       225\n",
            "    contempt       0.56      0.62      0.59       233\n",
            "     disgust       0.37      0.11      0.17       184\n",
            "        fear       0.42      0.15      0.22       226\n",
            "       happy       0.92      0.82      0.87       351\n",
            "     neutral       0.85      0.95      0.89       413\n",
            "         sad       0.47      0.71      0.56       463\n",
            "    surprise       0.47      0.60      0.53       317\n",
            "\n",
            "    accuracy                           0.60      2412\n",
            "   macro avg       0.56      0.53      0.52      2412\n",
            "weighted avg       0.59      0.60      0.58      2412\n",
            "\n"
          ]
        }
      ],
      "source": [
        "import numpy as np\n",
        "import matplotlib.pyplot as plt\n",
        "import seaborn as sns\n",
        "from sklearn.metrics import confusion_matrix, classification_report\n",
        "\n",
        "val_generator.reset()  # Ensure order is correct\n",
        "y_val_probs = model.predict(val_generator, steps=len(val_generator), verbose=1)\n",
        "y_val_pred = np.argmax(y_val_probs, axis=1)\n",
        "\n",
        "y_val_true = val_generator.classes\n",
        "val_class_names = list(val_generator.class_indices.keys())\n",
        "\n",
        "cm_val = confusion_matrix(y_val_true, y_val_pred)\n",
        "\n",
        "plt.figure(figsize=(10, 8))\n",
        "sns.heatmap(cm_val, annot=True, fmt='d', cmap='Blues',\n",
        "            xticklabels=val_class_names, yticklabels=val_class_names)\n",
        "plt.xlabel('Predicted')\n",
        "plt.ylabel('True')\n",
        "plt.title('Validation Confusion Matrix')\n",
        "plt.show()\n",
        "\n",
        "# Optional classification report\n",
        "print(\"Validation Classification Report:\\n\")\n",
        "print(classification_report(y_val_true, y_val_pred, target_names=val_class_names))\n"
      ]
    },
    {
      "cell_type": "code",
      "execution_count": 24,
      "metadata": {
        "colab": {
          "base_uri": "https://localhost:8080/",
          "height": 452
        },
        "execution": {
          "iopub.execute_input": "2025-06-25T09:18:45.326778Z",
          "iopub.status.busy": "2025-06-25T09:18:45.326177Z",
          "iopub.status.idle": "2025-06-25T09:18:45.555897Z",
          "shell.execute_reply": "2025-06-25T09:18:45.555077Z",
          "shell.execute_reply.started": "2025-06-25T09:18:45.326755Z"
        },
        "id": "m1uQz50yNgaB",
        "outputId": "ee418659-9fe6-4692-b15e-91c37e490583",
        "trusted": true
      },
      "outputs": [
        {
          "data": {
            "image/png": "[encoded data removed]",
            "text/plain": [
              "<Figure size 640x480 with 1 Axes>"
            ]
          },
          "metadata": {},
          "output_type": "display_data"
        }
      ],
      "source": [
        "import matplotlib.pyplot as plt\n",
        "\n",
        "plt.plot(history.history['accuracy'], label='Train Acc')\n",
        "plt.plot(history.history['val_accuracy'], label='Val Acc')\n",
        "plt.plot(history.history['loss'], label='Train Loss')\n",
        "plt.plot(history.history['val_loss'], label='Val Loss')\n",
        "plt.legend()\n",
        "plt.title(\"Training Curves\")\n",
        "plt.show()\n"
      ]
    },
    {
      "cell_type": "code",
      "execution_count": 9,
      "metadata": {
        "execution": {
          "iopub.execute_input": "2025-06-25T09:20:51.747731Z",
          "iopub.status.busy": "2025-06-25T09:20:51.747184Z",
          "iopub.status.idle": "2025-06-25T09:20:52.772641Z",
          "shell.execute_reply": "2025-06-25T09:20:52.772069Z",
          "shell.execute_reply.started": "2025-06-25T09:20:51.747708Z"
        },
        "id": "EOaSprbwNgaC",
        "trusted": true
      },
      "outputs": [
        {
          "name": "stderr",
          "output_type": "stream",
          "text": [
            "WARNING:absl:Compiled the loaded model, but the compiled metrics have yet to be built. `model.compile_metrics` will be empty until you train or evaluate the model.\n"
          ]
        }
      ],
      "source": [
        "from tensorflow.keras.models import load_model\n",
        "\n",
        "model = load_model(\"emotion_model.h5\")"
      ]
    },
    {
      "cell_type": "code",
      "execution_count": 10,
      "metadata": {},
      "outputs": [],
      "source": [
        "emotion_labels = ['anger', 'contempt', 'disgust', 'fear', 'happy', 'neutral', 'sad', 'surprise']\n"
      ]
    },
    {
      "cell_type": "code",
      "execution_count": 11,
      "metadata": {
        "execution": {
          "iopub.execute_input": "2025-06-25T09:23:45.745410Z",
          "iopub.status.busy": "2025-06-25T09:23:45.745083Z",
          "iopub.status.idle": "2025-06-25T09:23:45.763757Z",
          "shell.execute_reply": "2025-06-25T09:23:45.763242Z",
          "shell.execute_reply.started": "2025-06-25T09:23:45.745388Z"
        },
        "id": "NtLdldfUNgaC",
        "trusted": true
      },
      "outputs": [],
      "source": [
        "from tensorflow.keras.preprocessing import image\n",
        "import numpy as np\n",
        "\n",
        "def load_and_preprocess_image(img_path, target_size=(224, 224)):\n",
        "    \"\"\"\n",
        "    Loads an image from the given path and preprocesses it for prediction.\n",
        "\n",
        "    Parameters:\n",
        "    - img_path (str): Path to the image file\n",
        "    - target_size (tuple): Desired image size (width, height)\n",
        "\n",
        "    Returns:\n",
        "    - numpy.ndarray: Preprocessed image ready for model prediction\n",
        "    \"\"\"\n",
        "    img = image.load_img(img_path, target_size=target_size)\n",
        "    img_array = image.img_to_array(img)\n",
        "    img_array = img_array / 255.0  # Normalize\n",
        "    img_array = np.expand_dims(img_array, axis=0)  # Add batch dimension\n",
        "    return img_array\n"
      ]
    },
    {
      "cell_type": "code",
      "execution_count": 12,
      "metadata": {
        "colab": {
          "base_uri": "https://localhost:8080/"
        },
        "execution": {
          "iopub.execute_input": "2025-06-25T09:23:01.840817Z",
          "iopub.status.busy": "2025-06-25T09:23:01.839803Z",
          "iopub.status.idle": "2025-06-25T09:23:01.845134Z",
          "shell.execute_reply": "2025-06-25T09:23:01.844316Z",
          "shell.execute_reply.started": "2025-06-25T09:23:01.840781Z"
        },
        "id": "5GjIFGlBNgaC",
        "outputId": "f30be73d-24df-43f4-d5b9-ef1819da5ca1",
        "trusted": true
      },
      "outputs": [
        {
          "name": "stdout",
          "output_type": "stream",
          "text": [
            "{'anger': 0, 'contempt': 1, 'disgust': 2, 'fear': 3, 'happy': 4, 'neutral': 5, 'sad': 6, 'surprise': 7}\n"
          ]
        }
      ],
      "source": [
        "print(train_generator.class_indices)"
      ]
    },
    {
      "cell_type": "code",
      "execution_count": 14,
      "metadata": {
        "colab": {
          "base_uri": "https://localhost:8080/"
        },
        "id": "P1I6WzwGBU4K",
        "outputId": "5856b454-9d82-4c67-cbfe-3668bd508eac"
      },
      "outputs": [
        {
          "name": "stdout",
          "output_type": "stream",
          "text": [
            "\u001b[1m1/1\u001b[0m \u001b[32m━━━━━━━━━━━━━━━━━━━━\u001b[0m\u001b[37m\u001b[0m \u001b[1m5s\u001b[0m 5s/step\n",
            "Predicted Emotion: neutral\n"
          ]
        }
      ],
      "source": [
        "img_path = r\"dataset\\Test\\neutral\\ffhq_1.png\"\n",
        "img_array = load_and_preprocess_image(img_path)\n",
        "prediction = model.predict(img_array)\n",
        "predicted_class_index = np.argmax(prediction)\n",
        "predicted_emotion = emotion_labels[predicted_class_index]\n",
        "\n",
        "print(f\"Predicted Emotion: {predicted_emotion}\")\n"
      ]
    },
    {
      "cell_type": "code",
      "execution_count": 15,
      "metadata": {},
      "outputs": [
        {
          "name": "stdout",
          "output_type": "stream",
          "text": [
            "\u001b[1m1/1\u001b[0m \u001b[32m━━━━━━━━━━━━━━━━━━━━\u001b[0m\u001b[37m\u001b[0m \u001b[1m0s\u001b[0m 183ms/step\n",
            "Predicted Emotion: contempt\n"
          ]
        }
      ],
      "source": [
        "img_path = r\"dataset\\Test\\Anger\\image0002049.jpg\"\n",
        "img_array = load_and_preprocess_image(img_path)\n",
        "prediction = model.predict(img_array)\n",
        "predicted_class_index = np.argmax(prediction)\n",
        "predicted_emotion = emotion_labels[predicted_class_index]\n",
        "\n",
        "print(f\"Predicted Emotion: {predicted_emotion}\")\n"
      ]
    },
    {
      "cell_type": "code",
      "execution_count": 16,
      "metadata": {},
      "outputs": [
        {
          "name": "stdout",
          "output_type": "stream",
          "text": [
            "\u001b[1m1/1\u001b[0m \u001b[32m━━━━━━━━━━━━━━━━━━━━\u001b[0m\u001b[37m\u001b[0m \u001b[1m0s\u001b[0m 157ms/step\n",
            "Predicted Emotion: happy\n"
          ]
        }
      ],
      "source": [
        "img_path = r\"dataset\\Test\\happy\\ffhq_10.png\"\n",
        "img_array = load_and_preprocess_image(img_path)\n",
        "prediction = model.predict(img_array)\n",
        "predicted_class_index = np.argmax(prediction)\n",
        "predicted_emotion = emotion_labels[predicted_class_index]\n",
        "\n",
        "print(f\"Predicted Emotion: {predicted_emotion}\")\n"
      ]
    },
    {
      "cell_type": "code",
      "execution_count": 18,
      "metadata": {},
      "outputs": [
        {
          "name": "stdout",
          "output_type": "stream",
          "text": [
            "\u001b[1m1/1\u001b[0m \u001b[32m━━━━━━━━━━━━━━━━━━━━\u001b[0m\u001b[37m\u001b[0m \u001b[1m0s\u001b[0m 150ms/step\n",
            "Predicted Emotion: neutral\n"
          ]
        }
      ],
      "source": [
        "img_path = r\"dataset\\Test\\surprise\\ffhq_387.png\"\n",
        "img_array = load_and_preprocess_image(img_path)\n",
        "prediction = model.predict(img_array)\n",
        "predicted_class_index = np.argmax(prediction)\n",
        "predicted_emotion = emotion_labels[predicted_class_index]\n",
        "\n",
        "print(f\"Predicted Emotion: {predicted_emotion}\")\n"
      ]
    },
    {
      "cell_type": "code",
      "execution_count": 33,
      "metadata": {},
      "outputs": [
        {
          "name": "stdout",
          "output_type": "stream",
          "text": [
            "\u001b[1m1/1\u001b[0m \u001b[32m━━━━━━━━━━━━━━━━━━━━\u001b[0m\u001b[37m\u001b[0m \u001b[1m0s\u001b[0m 180ms/step\n",
            "Predicted Emotion: surprise\n"
          ]
        }
      ],
      "source": [
        "img_path = r\"D:\\ML Team Delta\\M4\\archive (3)\\Train\\disgust\\image0042542.jpg\"\n",
        "img_array = load_and_preprocess_image(img_path)\n",
        "prediction = model.predict(img_array)\n",
        "predicted_class_index = np.argmax(prediction)\n",
        "predicted_emotion = emotion_labels[predicted_class_index]\n",
        "\n",
        "print(f\"Predicted Emotion: {predicted_emotion}\")\n"
      ]
    },
    {
      "cell_type": "code",
      "execution_count": 19,
      "metadata": {},
      "outputs": [
        {
          "name": "stdout",
          "output_type": "stream",
          "text": [
            "\u001b[1m1/1\u001b[0m \u001b[32m━━━━━━━━━━━━━━━━━━━━\u001b[0m\u001b[37m\u001b[0m \u001b[1m0s\u001b[0m 148ms/step\n",
            "Predicted Emotion: anger\n"
          ]
        }
      ],
      "source": [
        "img_path = r\"dataset\\Test\\disgust\\ffhq_7.png\"\n",
        "img_array = load_and_preprocess_image(img_path)\n",
        "prediction = model.predict(img_array)\n",
        "predicted_class_index = np.argmax(prediction)\n",
        "predicted_emotion = emotion_labels[predicted_class_index]\n",
        "\n",
        "print(f\"Predicted Emotion: {predicted_emotion}\")\n"
      ]
    },
    {
      "cell_type": "code",
      "execution_count": 22,
      "metadata": {},
      "outputs": [
        {
          "name": "stdout",
          "output_type": "stream",
          "text": [
            "\u001b[1m1/1\u001b[0m \u001b[32m━━━━━━━━━━━━━━━━━━━━\u001b[0m\u001b[37m\u001b[0m \u001b[1m0s\u001b[0m 233ms/step\n",
            "Predicted Emotion: anger\n"
          ]
        }
      ],
      "source": [
        "img_path = r\"dataset\\Test\\Anger\\image0020933.jpg\"\n",
        "img_array = load_and_preprocess_image(img_path)\n",
        "prediction = model.predict(img_array)\n",
        "predicted_class_index = np.argmax(prediction)\n",
        "predicted_emotion = emotion_labels[predicted_class_index]\n",
        "\n",
        "print(f\"Predicted Emotion: {predicted_emotion}\")\n"
      ]
    },
    {
      "cell_type": "code",
      "execution_count": 27,
      "metadata": {
        "colab": {
          "base_uri": "https://localhost:8080/"
        },
        "execution": {
          "iopub.execute_input": "2025-06-25T09:23:49.098053Z",
          "iopub.status.busy": "2025-06-25T09:23:49.097338Z",
          "iopub.status.idle": "2025-06-25T09:23:49.186950Z",
          "shell.execute_reply": "2025-06-25T09:23:49.186379Z",
          "shell.execute_reply.started": "2025-06-25T09:23:49.098002Z"
        },
        "id": "ky7nGVhcNgaC",
        "outputId": "65a6b551-5a2d-4584-a111-dd720b69cf5a",
        "trusted": true
      },
      "outputs": [
        {
          "name": "stdout",
          "output_type": "stream",
          "text": [
            "\u001b[1m1/1\u001b[0m \u001b[32m━━━━━━━━━━━━━━━━━━━━\u001b[0m\u001b[37m\u001b[0m \u001b[1m8s\u001b[0m 8s/step\n",
            "Predicted class index: 4\n",
            "Confidence: 99.19 %\n"
          ]
        }
      ],
      "source": [
        "predictions = model.predict(img_array)\n",
        "predicted_class = np.argmax(predictions, axis=1)[0]\n",
        "confidence = np.max(predictions)\n",
        "\n",
        "print(\"Predicted class index:\", predicted_class)\n",
        "print(\"Confidence:\", round(confidence * 100, 2), \"%\")"
      ]
    },
    {
      "cell_type": "code",
      "execution_count": 23,
      "metadata": {
        "id": "Vx9hzbq_As7l"
      },
      "outputs": [
        {
          "name": "stdout",
          "output_type": "stream",
          "text": [
            "Class Labels Order: ['anger', 'contempt', 'disgust', 'fear', 'happy', 'neutral', 'sad', 'surprise']\n"
          ]
        }
      ],
      "source": [
        "import os\n",
        "\n",
        "train_path = r'dataset\\Train'\n",
        "classes = sorted(os.listdir(train_path))\n",
        "print(\"Class Labels Order:\", classes)\n"
      ]
    },
    {
      "cell_type": "code",
      "execution_count": 2,
      "metadata": {},
      "outputs": [
        {
          "name": "stdout",
          "output_type": "stream",
          "text": [
            "Collecting pygame\n",
            "  Downloading pygame-2.6.1-cp311-cp311-win_amd64.whl.metadata (13 kB)\n",
            "Downloading pygame-2.6.1-cp311-cp311-win_amd64.whl (10.6 MB)\n",
            "   ---------------------------------------- 0.0/10.6 MB ? eta -:--:--\n",
            "   ---------------------------------------- 0.0/10.6 MB ? eta -:--:--\n",
            "   ---------------------------------------- 0.0/10.6 MB ? eta -:--:--\n",
            "   ---------------------------------------- 0.0/10.6 MB ? eta -:--:--\n",
            "   ---------------------------------------- 0.0/10.6 MB 262.6 kB/s eta 0:00:41\n",
            "   ---------------------------------------- 0.1/10.6 MB 328.2 kB/s eta 0:00:33\n",
            "    --------------------------------------- 0.1/10.6 MB 563.7 kB/s eta 0:00:19\n",
            "    --------------------------------------- 0.2/10.6 MB 772.8 kB/s eta 0:00:14\n",
            "    --------------------------------------- 0.3/10.6 MB 874.6 kB/s eta 0:00:12\n",
            "   - -------------------------------------- 0.3/10.6 MB 770.1 kB/s eta 0:00:14\n",
            "   - -------------------------------------- 0.4/10.6 MB 945.2 kB/s eta 0:00:11\n",
            "   - -------------------------------------- 0.4/10.6 MB 958.4 kB/s eta 0:00:11\n",
            "   - -------------------------------------- 0.5/10.6 MB 983.0 kB/s eta 0:00:11\n",
            "   -- ------------------------------------- 0.5/10.6 MB 1.0 MB/s eta 0:00:11\n",
            "   -- ------------------------------------- 0.7/10.6 MB 1.1 MB/s eta 0:00:09\n",
            "   -- ------------------------------------- 0.8/10.6 MB 1.2 MB/s eta 0:00:09\n",
            "   --- ------------------------------------ 0.9/10.6 MB 1.3 MB/s eta 0:00:08\n",
            "   --- ------------------------------------ 0.9/10.6 MB 1.3 MB/s eta 0:00:08\n",
            "   --- ------------------------------------ 0.9/10.6 MB 1.3 MB/s eta 0:00:08\n",
            "   --- ------------------------------------ 1.0/10.6 MB 1.2 MB/s eta 0:00:09\n",
            "   --- ------------------------------------ 1.1/10.6 MB 1.2 MB/s eta 0:00:09\n",
            "   ---- ----------------------------------- 1.1/10.6 MB 1.2 MB/s eta 0:00:08\n",
            "   ---- ----------------------------------- 1.2/10.6 MB 1.2 MB/s eta 0:00:08\n",
            "   ---- ----------------------------------- 1.2/10.6 MB 1.2 MB/s eta 0:00:08\n",
            "   ---- ----------------------------------- 1.2/10.6 MB 1.1 MB/s eta 0:00:09\n",
            "   ----- ---------------------------------- 1.3/10.6 MB 1.2 MB/s eta 0:00:08\n",
            "   ----- ---------------------------------- 1.4/10.6 MB 1.2 MB/s eta 0:00:08\n",
            "   ----- ---------------------------------- 1.4/10.6 MB 1.2 MB/s eta 0:00:08\n",
            "   ----- ---------------------------------- 1.5/10.6 MB 1.2 MB/s eta 0:00:08\n",
            "   ------ --------------------------------- 1.6/10.6 MB 1.2 MB/s eta 0:00:08\n",
            "   ------ --------------------------------- 1.7/10.6 MB 1.3 MB/s eta 0:00:07\n",
            "   ------ --------------------------------- 1.8/10.6 MB 1.3 MB/s eta 0:00:07\n",
            "   ------- -------------------------------- 1.9/10.6 MB 1.3 MB/s eta 0:00:07\n",
            "   ------- -------------------------------- 2.0/10.6 MB 1.4 MB/s eta 0:00:07\n",
            "   -------- ------------------------------- 2.2/10.6 MB 1.4 MB/s eta 0:00:07\n",
            "   -------- ------------------------------- 2.3/10.6 MB 1.4 MB/s eta 0:00:06\n",
            "   -------- ------------------------------- 2.3/10.6 MB 1.4 MB/s eta 0:00:06\n",
            "   -------- ------------------------------- 2.3/10.6 MB 1.4 MB/s eta 0:00:07\n",
            "   -------- ------------------------------- 2.3/10.6 MB 1.4 MB/s eta 0:00:07\n",
            "   --------- ------------------------------ 2.5/10.6 MB 1.4 MB/s eta 0:00:06\n",
            "   --------- ------------------------------ 2.6/10.6 MB 1.4 MB/s eta 0:00:06\n",
            "   --------- ------------------------------ 2.6/10.6 MB 1.4 MB/s eta 0:00:06\n",
            "   ---------- ----------------------------- 2.7/10.6 MB 1.4 MB/s eta 0:00:06\n",
            "   ---------- ----------------------------- 2.8/10.6 MB 1.4 MB/s eta 0:00:06\n",
            "   ---------- ----------------------------- 2.9/10.6 MB 1.5 MB/s eta 0:00:06\n",
            "   ----------- ---------------------------- 3.0/10.6 MB 1.5 MB/s eta 0:00:06\n",
            "   ----------- ---------------------------- 3.1/10.6 MB 1.5 MB/s eta 0:00:06\n",
            "   ----------- ---------------------------- 3.1/10.6 MB 1.5 MB/s eta 0:00:06\n",
            "   ------------ --------------------------- 3.2/10.6 MB 1.5 MB/s eta 0:00:06\n",
            "   ------------ --------------------------- 3.3/10.6 MB 1.5 MB/s eta 0:00:05\n",
            "   ------------ --------------------------- 3.4/10.6 MB 1.5 MB/s eta 0:00:05\n",
            "   ------------- -------------------------- 3.5/10.6 MB 1.5 MB/s eta 0:00:05\n",
            "   ------------- -------------------------- 3.6/10.6 MB 1.5 MB/s eta 0:00:05\n",
            "   ------------- -------------------------- 3.6/10.6 MB 1.5 MB/s eta 0:00:05\n",
            "   ------------- -------------------------- 3.6/10.6 MB 1.5 MB/s eta 0:00:05\n",
            "   -------------- ------------------------- 3.7/10.6 MB 1.5 MB/s eta 0:00:05\n",
            "   -------------- ------------------------- 3.9/10.6 MB 1.5 MB/s eta 0:00:05\n",
            "   -------------- ------------------------- 4.0/10.6 MB 1.5 MB/s eta 0:00:05\n",
            "   --------------- ------------------------ 4.0/10.6 MB 1.5 MB/s eta 0:00:05\n",
            "   --------------- ------------------------ 4.0/10.6 MB 1.5 MB/s eta 0:00:05\n",
            "   --------------- ------------------------ 4.1/10.6 MB 1.5 MB/s eta 0:00:05\n",
            "   --------------- ------------------------ 4.2/10.6 MB 1.5 MB/s eta 0:00:05\n",
            "   ---------------- ----------------------- 4.3/10.6 MB 1.5 MB/s eta 0:00:05\n",
            "   ---------------- ----------------------- 4.4/10.6 MB 1.5 MB/s eta 0:00:05\n",
            "   ----------------- ---------------------- 4.5/10.6 MB 1.5 MB/s eta 0:00:04\n",
            "   ----------------- ---------------------- 4.6/10.6 MB 1.5 MB/s eta 0:00:04\n",
            "   ----------------- ---------------------- 4.6/10.6 MB 1.5 MB/s eta 0:00:04\n",
            "   ----------------- ---------------------- 4.8/10.6 MB 1.5 MB/s eta 0:00:04\n",
            "   ------------------ --------------------- 4.9/10.6 MB 1.5 MB/s eta 0:00:04\n",
            "   ------------------ --------------------- 5.0/10.6 MB 1.6 MB/s eta 0:00:04\n",
            "   ------------------- -------------------- 5.1/10.6 MB 1.6 MB/s eta 0:00:04\n",
            "   ------------------- -------------------- 5.2/10.6 MB 1.6 MB/s eta 0:00:04\n",
            "   -------------------- ------------------- 5.4/10.6 MB 1.6 MB/s eta 0:00:04\n",
            "   -------------------- ------------------- 5.5/10.6 MB 1.6 MB/s eta 0:00:04\n",
            "   --------------------- ------------------ 5.6/10.6 MB 1.6 MB/s eta 0:00:04\n",
            "   --------------------- ------------------ 5.8/10.6 MB 1.6 MB/s eta 0:00:04\n",
            "   ---------------------- ----------------- 5.9/10.6 MB 1.6 MB/s eta 0:00:03\n",
            "   ---------------------- ----------------- 5.9/10.6 MB 1.6 MB/s eta 0:00:03\n",
            "   ---------------------- ----------------- 6.0/10.6 MB 1.6 MB/s eta 0:00:03\n",
            "   ---------------------- ----------------- 6.0/10.6 MB 1.6 MB/s eta 0:00:03\n",
            "   ----------------------- ---------------- 6.1/10.6 MB 1.6 MB/s eta 0:00:03\n",
            "   ----------------------- ---------------- 6.2/10.6 MB 1.6 MB/s eta 0:00:03\n",
            "   ----------------------- ---------------- 6.3/10.6 MB 1.6 MB/s eta 0:00:03\n",
            "   ------------------------ --------------- 6.4/10.6 MB 1.6 MB/s eta 0:00:03\n",
            "   ------------------------ --------------- 6.5/10.6 MB 1.7 MB/s eta 0:00:03\n",
            "   ------------------------- -------------- 6.7/10.6 MB 1.7 MB/s eta 0:00:03\n",
            "   ------------------------- -------------- 6.7/10.6 MB 1.7 MB/s eta 0:00:03\n",
            "   ------------------------- -------------- 6.7/10.6 MB 1.6 MB/s eta 0:00:03\n",
            "   ------------------------- -------------- 6.8/10.6 MB 1.6 MB/s eta 0:00:03\n",
            "   ------------------------- -------------- 6.8/10.6 MB 1.6 MB/s eta 0:00:03\n",
            "   -------------------------- ------------- 7.0/10.6 MB 1.6 MB/s eta 0:00:03\n",
            "   -------------------------- ------------- 7.1/10.6 MB 1.6 MB/s eta 0:00:03\n",
            "   -------------------------- ------------- 7.1/10.6 MB 1.6 MB/s eta 0:00:03\n",
            "   --------------------------- ------------ 7.2/10.6 MB 1.6 MB/s eta 0:00:03\n",
            "   --------------------------- ------------ 7.4/10.6 MB 1.7 MB/s eta 0:00:02\n",
            "   ---------------------------- ----------- 7.5/10.6 MB 1.7 MB/s eta 0:00:02\n",
            "   ---------------------------- ----------- 7.6/10.6 MB 1.7 MB/s eta 0:00:02\n",
            "   ---------------------------- ----------- 7.6/10.6 MB 1.7 MB/s eta 0:00:02\n",
            "   ---------------------------- ----------- 7.7/10.6 MB 1.7 MB/s eta 0:00:02\n",
            "   ----------------------------- ---------- 7.8/10.6 MB 1.7 MB/s eta 0:00:02\n",
            "   ----------------------------- ---------- 7.9/10.6 MB 1.7 MB/s eta 0:00:02\n",
            "   ------------------------------ --------- 8.0/10.6 MB 1.7 MB/s eta 0:00:02\n",
            "   ------------------------------ --------- 8.1/10.6 MB 1.7 MB/s eta 0:00:02\n",
            "   ------------------------------ --------- 8.2/10.6 MB 1.7 MB/s eta 0:00:02\n",
            "   ------------------------------- -------- 8.3/10.6 MB 1.7 MB/s eta 0:00:02\n",
            "   ------------------------------- -------- 8.3/10.6 MB 1.7 MB/s eta 0:00:02\n",
            "   ------------------------------- -------- 8.4/10.6 MB 1.7 MB/s eta 0:00:02\n",
            "   -------------------------------- ------- 8.5/10.6 MB 1.7 MB/s eta 0:00:02\n",
            "   -------------------------------- ------- 8.7/10.6 MB 1.7 MB/s eta 0:00:02\n",
            "   -------------------------------- ------- 8.7/10.6 MB 1.7 MB/s eta 0:00:02\n",
            "   --------------------------------- ------ 8.8/10.6 MB 1.7 MB/s eta 0:00:02\n",
            "   --------------------------------- ------ 8.9/10.6 MB 1.7 MB/s eta 0:00:01\n",
            "   ---------------------------------- ----- 9.1/10.6 MB 1.7 MB/s eta 0:00:01\n",
            "   ---------------------------------- ----- 9.1/10.6 MB 1.7 MB/s eta 0:00:01\n",
            "   ---------------------------------- ----- 9.2/10.6 MB 1.7 MB/s eta 0:00:01\n",
            "   ----------------------------------- ---- 9.4/10.6 MB 1.7 MB/s eta 0:00:01\n",
            "   ----------------------------------- ---- 9.5/10.6 MB 1.7 MB/s eta 0:00:01\n",
            "   ------------------------------------ --- 9.6/10.6 MB 1.7 MB/s eta 0:00:01\n",
            "   ------------------------------------ --- 9.7/10.6 MB 1.7 MB/s eta 0:00:01\n",
            "   ------------------------------------ --- 9.7/10.6 MB 1.7 MB/s eta 0:00:01\n",
            "   ------------------------------------ --- 9.8/10.6 MB 1.7 MB/s eta 0:00:01\n",
            "   ------------------------------------- -- 9.9/10.6 MB 1.7 MB/s eta 0:00:01\n",
            "   ------------------------------------- -- 10.0/10.6 MB 1.7 MB/s eta 0:00:01\n",
            "   ------------------------------------- -- 10.0/10.6 MB 1.7 MB/s eta 0:00:01\n",
            "   ------------------------------------- -- 10.1/10.6 MB 1.7 MB/s eta 0:00:01\n",
            "   -------------------------------------- - 10.1/10.6 MB 1.7 MB/s eta 0:00:01\n",
            "   -------------------------------------- - 10.3/10.6 MB 1.8 MB/s eta 0:00:01\n",
            "   ---------------------------------------  10.4/10.6 MB 1.8 MB/s eta 0:00:01\n",
            "   ---------------------------------------  10.4/10.6 MB 1.8 MB/s eta 0:00:01\n",
            "   ---------------------------------------  10.5/10.6 MB 1.8 MB/s eta 0:00:01\n",
            "   ---------------------------------------  10.6/10.6 MB 1.8 MB/s eta 0:00:01\n",
            "   ---------------------------------------  10.6/10.6 MB 1.8 MB/s eta 0:00:01\n",
            "   ---------------------------------------  10.6/10.6 MB 1.8 MB/s eta 0:00:01\n",
            "   ---------------------------------------- 10.6/10.6 MB 1.8 MB/s eta 0:00:00\n",
            "Installing collected packages: pygame\n",
            "Successfully installed pygame-2.6.1\n"
          ]
        },
        {
          "name": "stderr",
          "output_type": "stream",
          "text": [
            "\n",
            "[notice] A new release of pip is available: 24.0 -> 25.1.1\n",
            "[notice] To update, run: C:\\Users\\AIO\\AppData\\Local\\Microsoft\\WindowsApps\\PythonSoftwareFoundation.Python.3.11_qbz5n2kfra8p0\\python.exe -m pip install --upgrade pip\n"
          ]
        }
      ],
      "source": [
        "!pip install pygame\n"
      ]
    },
    {
      "cell_type": "code",
      "execution_count": 8,
      "metadata": {},
      "outputs": [
        {
          "name": "stdout",
          "output_type": "stream",
          "text": [
            "Collecting playsound\n",
            "  Downloading playsound-1.3.0.tar.gz (7.7 kB)\n",
            "  Preparing metadata (setup.py): started\n",
            "  Preparing metadata (setup.py): finished with status 'done'\n",
            "Building wheels for collected packages: playsound\n",
            "  Building wheel for playsound (setup.py): started\n",
            "  Building wheel for playsound (setup.py): finished with status 'done'\n",
            "  Created wheel for playsound: filename=playsound-1.3.0-py3-none-any.whl size=7044 sha256=d70ceecc76c44fa3c2f62bfb9ea9593064cafb672bfae9a1d11817dbd6cf414c\n",
            "  Stored in directory: c:\\users\\aio\\appdata\\local\\pip\\cache\\wheels\\50\\98\\42\\62753a9e1fb97579a0ce2f84f7db4c21c09d03bb2091e6cef4\n",
            "Successfully built playsound\n",
            "Installing collected packages: playsound\n",
            "Successfully installed playsound-1.3.0\n"
          ]
        },
        {
          "name": "stderr",
          "output_type": "stream",
          "text": [
            "\n",
            "[notice] A new release of pip is available: 24.0 -> 25.1.1\n",
            "[notice] To update, run: C:\\Users\\AIO\\AppData\\Local\\Microsoft\\WindowsApps\\PythonSoftwareFoundation.Python.3.11_qbz5n2kfra8p0\\python.exe -m pip install --upgrade pip\n"
          ]
        }
      ],
      "source": [
        "!pip install playsound\n"
      ]
    },
    {
      "cell_type": "code",
      "execution_count": null,
      "metadata": {},
      "outputs": [
        {
          "name": "stderr",
          "output_type": "stream",
          "text": [
            "WARNING:absl:Compiled the loaded model, but the compiled metrics have yet to be built. `model.compile_metrics` will be empty until you train or evaluate the model.\n"
          ]
        },
        {
          "name": "stdout",
          "output_type": "stream",
          "text": [
            "\u001b[1m1/1\u001b[0m \u001b[32m━━━━━━━━━━━━━━━━━━━━\u001b[0m\u001b[37m\u001b[0m \u001b[1m5s\u001b[0m 5s/step\n"
          ]
        }
      ],
      "source": [
        "import os\n",
        "import random\n",
        "import numpy as np\n",
        "import tkinter as tk\n",
        "from tkinter import messagebox\n",
        "from tensorflow.keras.models import load_model\n",
        "from tensorflow.keras.preprocessing.image import load_img, img_to_array\n",
        "import pygame\n",
        "\n",
        "def get_emotion_genre_tracks(image_path, model_path=\"emotion_model.h5\", music_folder=r\"D:\\ML Team Delta\\M4\\Data\\genres_original\", limit=10):\n",
        "    model = load_model(model_path)\n",
        "\n",
        "    class_labels = ['anger', 'contempt', 'disgust', 'fear', 'happy', 'neutral', 'sad', 'surprise']\n",
        "\n",
        "    expression_to_genres = {\n",
        "        \"anger\": [\"rock\", \"metal\"],\n",
        "        \"contempt\": [\"classical\", \"jazz\"],\n",
        "        \"disgust\": [\"metal\", \"rock\"],\n",
        "        \"fear\": [\"classical\"],\n",
        "        \"happy\": [\"pop\", \"disco\"],\n",
        "        \"neutral\": [\"hip-hop\", \"reggae\"],\n",
        "        \"sad\": [\"blues\", \"jazz\"],\n",
        "        \"surprise\": [\"pop\", \"disco\"]\n",
        "    }\n",
        "\n",
        "    try:\n",
        "        img = load_img(image_path, target_size=(224, 224))\n",
        "        img_array = img_to_array(img)\n",
        "        img_array = img_array.astype(\"float32\") / 255.0\n",
        "        img_array = np.expand_dims(img_array, axis=0)\n",
        "        preds = model.predict(img_array)[0]\n",
        "        label = class_labels[np.argmax(preds)]\n",
        "        genres = expression_to_genres.get(label, [])\n",
        "        result = {}\n",
        "        for genre in genres:\n",
        "            genre_path = os.path.join(music_folder, genre)\n",
        "            if not os.path.exists(genre_path):\n",
        "                result[genre] = []\n",
        "                continue\n",
        "            tracks = [file for file in os.listdir(genre_path) if file.lower().endswith(\".wav\")]\n",
        "            random.shuffle(tracks)\n",
        "            result[genre] = [os.path.join(genre_path, track) for track in tracks[:limit]]\n",
        "        return label, result\n",
        "    except Exception as e:\n",
        "        return None, str(e)\n",
        "\n",
        "def play_music(track_path):\n",
        "    try:\n",
        "        pygame.mixer.music.load(track_path)\n",
        "        pygame.mixer.music.play()\n",
        "    except Exception as e:\n",
        "        messagebox.showerror(\"Error\", f\"Could not play track:\\n{e}\")\n",
        "\n",
        "def stop_music():\n",
        "    pygame.mixer.music.stop()\n",
        "\n",
        "# Load image and get emotion + tracks\n",
        "image_path = r\"dataset\\Test\\happy\\ffhq_0.png\"\n",
        "emotion, genre_tracks = get_emotion_genre_tracks(image_path)\n",
        "\n",
        "# Initialize audio\n",
        "pygame.init()\n",
        "pygame.mixer.init()\n",
        "\n",
        "# Build GUI\n",
        "root = tk.Tk()\n",
        "root.title(\"Emotion Music Recommender\")\n",
        "root.geometry(\"650x800\")\n",
        "root.configure(bg=\"#f4f4f4\")\n",
        "\n",
        "tk.Label(root, text=f\"Detected Emotion: {emotion}\", font=(\"Arial\", 18, \"bold\"), bg=\"#f4f4f4\").pack(pady=10)\n",
        "\n",
        "for genre, tracks in genre_tracks.items():\n",
        "    if not tracks:\n",
        "        continue\n",
        "    tk.Label(root, text=f\"{genre.upper()} Tracks:\", font=(\"Arial\", 14, \"bold\"), bg=\"#f4f4f4\").pack(pady=(15, 5))\n",
        "    for track_path in tracks:\n",
        "        frame = tk.Frame(root, bg=\"#f4f4f4\")\n",
        "        frame.pack(pady=2, fill=\"x\", padx=10)\n",
        "        track_name = os.path.basename(track_path)\n",
        "        tk.Label(frame, text=track_name, font=(\"Arial\", 10), bg=\"#f4f4f4\", anchor=\"w\", width=50).pack(side=\"left\")\n",
        "        tk.Button(frame, text=\"▶️ Play\", command=lambda t=track_path: play_music(t)).pack(side=\"right\", padx=5)\n",
        "        tk.Button(frame, text=\"⏹️ Stop\", command=stop_music).pack(side=\"right\")\n",
        "\n",
        "root.mainloop()\n"
      ]
    },
    {
      "cell_type": "code",
      "execution_count": null,
      "metadata": {},
      "outputs": [
        {
          "name": "stdout",
          "output_type": "stream",
          "text": [
            "Press 's' to capture face image\n"
          ]
        }
      ],
      "source": [
        "import os\n",
        "import random\n",
        "import numpy as np\n",
        "import tkinter as tk\n",
        "from tkinter import messagebox\n",
        "from tensorflow.keras.models import load_model\n",
        "from tensorflow.keras.preprocessing.image import img_to_array\n",
        "import pygame\n",
        "import cv2\n",
        "\n",
        "def capture_face_from_camera():\n",
        "    face_cascade = cv2.CascadeClassifier(cv2.data.haarcascades + \"haarcascade_frontalface_default.xml\")\n",
        "    cap = cv2.VideoCapture(0)\n",
        "    if not cap.isOpened():\n",
        "        raise Exception(\"Could not open webcam\")\n",
        "\n",
        "    print(\"Press 's' to capture face image\")\n",
        "    while True:\n",
        "        ret, frame = cap.read()\n",
        "        if not ret:\n",
        "            continue\n",
        "\n",
        "        gray = cv2.cvtColor(frame, cv2.COLOR_BGR2GRAY)\n",
        "        faces = face_cascade.detectMultiScale(gray, 1.3, 5)\n",
        "\n",
        "        for (x, y, w, h) in faces:\n",
        "            cv2.rectangle(frame, (x, y), (x+w, y+h), (0, 255, 0), 2)\n",
        "\n",
        "        cv2.imshow(\"Face Capture (press 's')\", frame)\n",
        "\n",
        "        key = cv2.waitKey(1)\n",
        "        if key == ord('s') and len(faces) > 0:\n",
        "            x, y, w, h = faces[0]\n",
        "            face_img = frame[y:y+h, x:x+w]\n",
        "            face_img = cv2.resize(face_img, (224, 224))\n",
        "            cap.release()\n",
        "            cv2.destroyAllWindows()\n",
        "            return face_img\n",
        "\n",
        "def get_emotion_genre_tracks_from_frame(frame, model_path=\"emotion_model.h5\", music_folder=r\"D:\\ML Team Delta\\M4\\Data\\genres_original\", limit=10):\n",
        "    model = load_model(model_path)\n",
        "\n",
        "    class_labels = ['anger', 'contempt', 'disgust', 'fear', 'happy', 'neutral', 'sad', 'surprise']\n",
        "\n",
        "    expression_to_genres = {\n",
        "        \"anger\": [\"rock\", \"metal\"],\n",
        "        \"contempt\": [\"classical\", \"jazz\"],\n",
        "        \"disgust\": [\"metal\", \"rock\"],\n",
        "        \"fear\": [\"classical\"],\n",
        "        \"happy\": [\"pop\", \"disco\"],\n",
        "        \"neutral\": [\"hip-hop\", \"reggae\"],\n",
        "        \"sad\": [\"blues\", \"jazz\"],\n",
        "        \"surprise\": [\"pop\", \"disco\"]\n",
        "    }\n",
        "\n",
        "    try:\n",
        "        img_array = img_to_array(frame)\n",
        "        img_array = img_array.astype(\"float32\") / 255.0\n",
        "        img_array = np.expand_dims(img_array, axis=0)\n",
        "        preds = model.predict(img_array)[0]\n",
        "        label = class_labels[np.argmax(preds)]\n",
        "\n",
        "        print(\"Predicted Emotion:\", label)\n",
        "        genres = expression_to_genres.get(label, [])\n",
        "        print(\"Mapped Genres:\", genres)\n",
        "\n",
        "        result = {}\n",
        "        for genre in genres:\n",
        "            genre_path = os.path.join(music_folder, genre)\n",
        "            print(\"Checking folder:\", genre_path)\n",
        "            if os.path.exists(genre_path):\n",
        "                files = os.listdir(genre_path)\n",
        "                print(f\"Found {len(files)} files in {genre}: {files[:5]}\")\n",
        "                tracks = [file for file in files if file.lower().endswith(\".wav\")]\n",
        "                random.shuffle(tracks)\n",
        "                result[genre] = [os.path.join(genre_path, track) for track in tracks[:limit]]\n",
        "            else:\n",
        "                print(f\"Genre folder not found: {genre_path}\")\n",
        "                result[genre] = []\n",
        "        return label, result\n",
        "    except Exception as e:\n",
        "        return None, str(e)\n",
        "\n",
        "def play_music(track_path):\n",
        "    try:\n",
        "        pygame.mixer.music.load(track_path)\n",
        "        pygame.mixer.music.play()\n",
        "    except Exception as e:\n",
        "        messagebox.showerror(\"Error\", f\"Could not play track:\\n{e}\")\n",
        "\n",
        "def stop_music():\n",
        "    pygame.mixer.music.stop()\n",
        "\n",
        "# Run app\n",
        "frame = capture_face_from_camera()\n",
        "emotion, genre_tracks = get_emotion_genre_tracks_from_frame(frame)\n",
        "\n",
        "pygame.init()\n",
        "pygame.mixer.init()\n",
        "\n",
        "root = tk.Tk()\n",
        "root.title(\"Emotion Music Recommender\")\n",
        "root.geometry(\"650x800\")\n",
        "root.configure(bg=\"#f4f4f4\")\n",
        "\n",
        "tk.Label(root, text=f\"Detected Emotion: {emotion}\", font=(\"Arial\", 18, \"bold\"), bg=\"#f4f4f4\").pack(pady=10)\n",
        "\n",
        "for genre, tracks in genre_tracks.items():\n",
        "    if not tracks:\n",
        "        continue\n",
        "    tk.Label(root, text=f\"{genre.upper()} Tracks:\", font=(\"Arial\", 14, \"bold\"), bg=\"#f4f4f4\").pack(pady=(15, 5))\n",
        "    for track_path in tracks:\n",
        "        frame = tk.Frame(root, bg=\"#f4f4f4\")\n",
        "        frame.pack(pady=2, fill=\"x\", padx=10)\n",
        "        track_name = os.path.basename(track_path)\n",
        "        tk.Label(frame, text=track_name, font=(\"Arial\", 10), bg=\"#f4f4f4\", anchor=\"w\", width=50).pack(side=\"left\")\n",
        "        tk.Button(frame, text=\"▶️ Play\", command=lambda t=track_path: play_music(t)).pack(side=\"right\", padx=5)\n",
        "        tk.Button(frame, text=\"⏹️ Stop\", command=stop_music).pack(side=\"right\")\n",
        "\n",
        "root.mainloop()\n"
      ]
    },
    {
      "cell_type": "code",
      "execution_count": null,
      "metadata": {},
      "outputs": [],
      "source": []
    }
  ],
  "metadata": {
    "accelerator": "GPU",
    "colab": {
      "gpuType": "T4",
      "provenance": []
    },
    "kaggle": {
      "accelerator": "nvidiaTeslaT4",
      "dataSources": [
        {
          "datasetId": 5538173,
          "sourceId": 9165738,
          "sourceType": "datasetVersion"
        }
      ],
      "dockerImageVersionId": 31041,
      "isGpuEnabled": true,
      "isInternetEnabled": true,
      "language": "python",
      "sourceType": "notebook"
    },
    "kernelspec": {
      "display_name": "Python 3",
      "name": "python3"
    },
    "language_info": {
      "codemirror_mode": {
        "name": "ipython",
        "version": 3
      },
      "file_extension": ".py",
      "mimetype": "text/x-python",
      "name": "python",
      "nbconvert_exporter": "python",
      "pygments_lexer": "ipython3",
      "version": "3.11.9"
    }
  },
  "nbformat": 4,
  "nbformat_minor": 0
}
